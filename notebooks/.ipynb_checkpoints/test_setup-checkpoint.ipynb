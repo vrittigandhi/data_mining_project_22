{
 "cells": [
  {
   "cell_type": "code",
   "execution_count": 1,
   "id": "54498dc9",
   "metadata": {},
   "outputs": [
    {
     "name": "stdout",
     "output_type": "stream",
     "text": [
      "Works!\n"
     ]
    }
   ],
   "source": [
    "# If you can run this cell, then your setup works. :)\n",
    "\n",
    "import sklearn\n",
    "import matplotlib as plt\n",
    "import pandas as pd\n",
    "\n",
    "try:\n",
    "    print(\"Works!\")\n",
    "except:\n",
    "    print(\"Error in setup!\")"
   ]
  },
  {
   "cell_type": "code",
   "execution_count": null,
   "id": "9482abcb",
   "metadata": {},
   "outputs": [],
   "source": []
  }
 ],
 "metadata": {
  "kernelspec": {
   "display_name": "dm_venv",
   "language": "python",
   "name": "dm_venv"
  },
  "language_info": {
   "codemirror_mode": {
    "name": "ipython",
    "version": 3
   },
   "file_extension": ".py",
   "mimetype": "text/x-python",
   "name": "python",
   "nbconvert_exporter": "python",
   "pygments_lexer": "ipython3",
   "version": "3.8.8"
  }
 },
 "nbformat": 4,
 "nbformat_minor": 5
}
